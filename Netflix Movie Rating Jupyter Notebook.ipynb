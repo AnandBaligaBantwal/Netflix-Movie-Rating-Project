{
 "cells": [
  {
   "cell_type": "markdown",
   "metadata": {},
   "source": [
    "Connected to Python 3.12.9"
   ]
  },
  {
   "cell_type": "code",
   "execution_count": null,
   "id": "0da7f414-7fa8-4cd5-864b-7ed3f2f02bb2",
   "metadata": {},
   "outputs": [],
   "source": [
    "import pandas as pd\n",
    "import numpy as np\n",
    "import matplotlib.pyplot as plt\n",
    "import seaborn as sns"
   ]
  },
  {
   "cell_type": "code",
   "execution_count": null,
   "id": "39eec974-d9d8-47a7-9010-dac1c37acca8",
   "metadata": {},
   "outputs": [],
   "source": [
    "df = pd.read_csv(\n",
    "    \"combinedNetflixData.txt\",\n",
    "    header=None,\n",
    "    usecols=[0, 1],\n",
    "    names=[\"CustID\", \"Ratings\"],\n",
    ")"
   ]
  },
  {
   "cell_type": "code",
   "execution_count": null,
   "id": "d76e0389-c0ac-4c5f-8b85-e66ed19da40d",
   "metadata": {},
   "outputs": [
    {
     "data": {
      "text/html": [
       "<div>\n",
       "<style scoped>\n",
       "    .dataframe tbody tr th:only-of-type {\n",
       "        vertical-align: middle;\n",
       "    }\n",
       "\n",
       "    .dataframe tbody tr th {\n",
       "        vertical-align: top;\n",
       "    }\n",
       "\n",
       "    .dataframe thead th {\n",
       "        text-align: right;\n",
       "    }\n",
       "</style>\n",
       "<table border=\"1\" class=\"dataframe\">\n",
       "  <thead>\n",
       "    <tr style=\"text-align: right;\">\n",
       "      <th></th>\n",
       "      <th>CustID</th>\n",
       "      <th>Ratings</th>\n",
       "    </tr>\n",
       "  </thead>\n",
       "  <tbody>\n",
       "    <tr>\n",
       "      <th>0</th>\n",
       "      <td>1:</td>\n",
       "      <td>NaN</td>\n",
       "    </tr>\n",
       "    <tr>\n",
       "      <th>1</th>\n",
       "      <td>1488844</td>\n",
       "      <td>3.0</td>\n",
       "    </tr>\n",
       "    <tr>\n",
       "      <th>2</th>\n",
       "      <td>822109</td>\n",
       "      <td>5.0</td>\n",
       "    </tr>\n",
       "    <tr>\n",
       "      <th>3</th>\n",
       "      <td>885013</td>\n",
       "      <td>4.0</td>\n",
       "    </tr>\n",
       "    <tr>\n",
       "      <th>4</th>\n",
       "      <td>30878</td>\n",
       "      <td>4.0</td>\n",
       "    </tr>\n",
       "    <tr>\n",
       "      <th>...</th>\n",
       "      <td>...</td>\n",
       "      <td>...</td>\n",
       "    </tr>\n",
       "    <tr>\n",
       "      <th>24058258</th>\n",
       "      <td>2591364</td>\n",
       "      <td>2.0</td>\n",
       "    </tr>\n",
       "    <tr>\n",
       "      <th>24058259</th>\n",
       "      <td>1791000</td>\n",
       "      <td>2.0</td>\n",
       "    </tr>\n",
       "    <tr>\n",
       "      <th>24058260</th>\n",
       "      <td>512536</td>\n",
       "      <td>5.0</td>\n",
       "    </tr>\n",
       "    <tr>\n",
       "      <th>24058261</th>\n",
       "      <td>988963</td>\n",
       "      <td>3.0</td>\n",
       "    </tr>\n",
       "    <tr>\n",
       "      <th>24058262</th>\n",
       "      <td>1704416</td>\n",
       "      <td>3.0</td>\n",
       "    </tr>\n",
       "  </tbody>\n",
       "</table>\n",
       "<p>24058263 rows × 2 columns</p>\n",
       "</div>"
      ],
      "text/plain": [
       "           CustID  Ratings\n",
       "0              1:      NaN\n",
       "1         1488844      3.0\n",
       "2          822109      5.0\n",
       "3          885013      4.0\n",
       "4           30878      4.0\n",
       "...           ...      ...\n",
       "24058258  2591364      2.0\n",
       "24058259  1791000      2.0\n",
       "24058260   512536      5.0\n",
       "24058261   988963      3.0\n",
       "24058262  1704416      3.0\n",
       "\n",
       "[24058263 rows x 2 columns]"
      ]
     },
     "execution_count": 3,
     "metadata": {},
     "output_type": "execute_result"
    }
   ],
   "source": [
    "df"
   ]
  },
  {
   "cell_type": "code",
   "execution_count": null,
   "id": "6681b230-b939-4695-b04b-02ab3d816a6b",
   "metadata": {},
   "outputs": [
    {
     "name": "stdout",
     "output_type": "stream",
     "text": [
      "<class 'pandas.core.frame.DataFrame'>\n",
      "RangeIndex: 24058263 entries, 0 to 24058262\n",
      "Data columns (total 2 columns):\n",
      " #   Column   Dtype  \n",
      "---  ------   -----  \n",
      " 0   CustID   object \n",
      " 1   Ratings  float64\n",
      "dtypes: float64(1), object(1)\n",
      "memory usage: 367.1+ MB\n"
     ]
    }
   ],
   "source": [
    "df.info()"
   ]
  },
  {
   "cell_type": "code",
   "execution_count": null,
   "id": "a11f5bed-2eeb-47ee-a243-3accc5e76162",
   "metadata": {},
   "outputs": [
    {
     "data": {
      "text/html": [
       "<div>\n",
       "<style scoped>\n",
       "    .dataframe tbody tr th:only-of-type {\n",
       "        vertical-align: middle;\n",
       "    }\n",
       "\n",
       "    .dataframe tbody tr th {\n",
       "        vertical-align: top;\n",
       "    }\n",
       "\n",
       "    .dataframe thead th {\n",
       "        text-align: right;\n",
       "    }\n",
       "</style>\n",
       "<table border=\"1\" class=\"dataframe\">\n",
       "  <thead>\n",
       "    <tr style=\"text-align: right;\">\n",
       "      <th></th>\n",
       "      <th>CustID</th>\n",
       "      <th>Ratings</th>\n",
       "    </tr>\n",
       "  </thead>\n",
       "  <tbody>\n",
       "    <tr>\n",
       "      <th>0</th>\n",
       "      <td>1:</td>\n",
       "      <td>NaN</td>\n",
       "    </tr>\n",
       "    <tr>\n",
       "      <th>548</th>\n",
       "      <td>2:</td>\n",
       "      <td>NaN</td>\n",
       "    </tr>\n",
       "    <tr>\n",
       "      <th>694</th>\n",
       "      <td>3:</td>\n",
       "      <td>NaN</td>\n",
       "    </tr>\n",
       "    <tr>\n",
       "      <th>2707</th>\n",
       "      <td>4:</td>\n",
       "      <td>NaN</td>\n",
       "    </tr>\n",
       "    <tr>\n",
       "      <th>2850</th>\n",
       "      <td>5:</td>\n",
       "      <td>NaN</td>\n",
       "    </tr>\n",
       "    <tr>\n",
       "      <th>...</th>\n",
       "      <td>...</td>\n",
       "      <td>...</td>\n",
       "    </tr>\n",
       "    <tr>\n",
       "      <th>24046714</th>\n",
       "      <td>4495:</td>\n",
       "      <td>NaN</td>\n",
       "    </tr>\n",
       "    <tr>\n",
       "      <th>24047329</th>\n",
       "      <td>4496:</td>\n",
       "      <td>NaN</td>\n",
       "    </tr>\n",
       "    <tr>\n",
       "      <th>24056849</th>\n",
       "      <td>4497:</td>\n",
       "      <td>NaN</td>\n",
       "    </tr>\n",
       "    <tr>\n",
       "      <th>24057564</th>\n",
       "      <td>4498:</td>\n",
       "      <td>NaN</td>\n",
       "    </tr>\n",
       "    <tr>\n",
       "      <th>24057834</th>\n",
       "      <td>4499:</td>\n",
       "      <td>NaN</td>\n",
       "    </tr>\n",
       "  </tbody>\n",
       "</table>\n",
       "<p>4499 rows × 2 columns</p>\n",
       "</div>"
      ],
      "text/plain": [
       "         CustID  Ratings\n",
       "0            1:      NaN\n",
       "548          2:      NaN\n",
       "694          3:      NaN\n",
       "2707         4:      NaN\n",
       "2850         5:      NaN\n",
       "...         ...      ...\n",
       "24046714  4495:      NaN\n",
       "24047329  4496:      NaN\n",
       "24056849  4497:      NaN\n",
       "24057564  4498:      NaN\n",
       "24057834  4499:      NaN\n",
       "\n",
       "[4499 rows x 2 columns]"
      ]
     },
     "execution_count": 5,
     "metadata": {},
     "output_type": "execute_result"
    }
   ],
   "source": [
    "df[df[\"CustID\"].str.contains(\":\")]"
   ]
  },
  {
   "cell_type": "code",
   "execution_count": null,
   "id": "00c0c6d6-164f-44f8-830e-997c6535e68b",
   "metadata": {},
   "outputs": [
    {
     "name": "stderr",
     "output_type": "stream",
     "text": [
      "<ipython-input-6-ff705bad4f28>:1: FutureWarning: Series.__getitem__ treating keys as positions is deprecated. In a future version, integer keys will always be treated as labels (consistent with DataFrame behavior). To access a value by position, use `ser.iloc[pos]`\n",
      "  movie_count = df[df[\"CustID\"].str.contains(\":\")].count()[0]\n"
     ]
    }
   ],
   "source": [
    "movie_count = df[df[\"CustID\"].str.contains(\":\")].count()[0]"
   ]
  },
  {
   "cell_type": "code",
   "execution_count": null,
   "id": "4d48d4cb-3001-4f85-ab49-7a7633ccf9c2",
   "metadata": {},
   "outputs": [
    {
     "data": {
      "text/plain": [
       "4499"
      ]
     },
     "execution_count": 7,
     "metadata": {},
     "output_type": "execute_result"
    }
   ],
   "source": [
    "movie_count"
   ]
  },
  {
   "cell_type": "code",
   "execution_count": null,
   "id": "8e113104-6bbf-4b13-b00f-b2861be3dbe3",
   "metadata": {},
   "outputs": [
    {
     "data": {
      "text/plain": [
       "475257"
      ]
     },
     "execution_count": 8,
     "metadata": {},
     "output_type": "execute_result"
    }
   ],
   "source": [
    "cust_count = df[\"CustID\"].nunique()\n",
    "cust_count"
   ]
  },
  {
   "cell_type": "code",
   "execution_count": null,
   "id": "2575bc39-0def-42f1-8cbc-8cc4ac84cc33",
   "metadata": {},
   "outputs": [
    {
     "data": {
      "text/plain": [
       "470758"
      ]
     },
     "execution_count": 9,
     "metadata": {},
     "output_type": "execute_result"
    }
   ],
   "source": [
    "cust_count = cust_count - movie_count\n",
    "cust_count"
   ]
  },
  {
   "cell_type": "code",
   "execution_count": null,
   "id": "d3605bc9-8707-400a-9811-a2b317fe21c1",
   "metadata": {},
   "outputs": [
    {
     "data": {
      "text/plain": [
       "24053764"
      ]
     },
     "execution_count": 10,
     "metadata": {},
     "output_type": "execute_result"
    }
   ],
   "source": [
    "ratings_count = len(df) - movie_count  # Total number of ratings in our given data\n",
    "ratings_count"
   ]
  },
  {
   "cell_type": "code",
   "execution_count": null,
   "id": "943c8d35-4040-4d5a-8c26-a6e73b455b17",
   "metadata": {},
   "outputs": [],
   "source": [
    "movie_id = []\n",
    "for x in df[\"CustID\"]:\n",
    "    if \":\" in x:\n",
    "        y = x.replace(\":\", \"\")\n",
    "    movie_id.append(y)"
   ]
  },
  {
   "cell_type": "code",
   "execution_count": null,
   "id": "95bc3a44-b940-4dd3-bdf9-d2a2197e6a37",
   "metadata": {},
   "outputs": [
    {
     "data": {
      "text/html": [
       "<div>\n",
       "<style scoped>\n",
       "    .dataframe tbody tr th:only-of-type {\n",
       "        vertical-align: middle;\n",
       "    }\n",
       "\n",
       "    .dataframe tbody tr th {\n",
       "        vertical-align: top;\n",
       "    }\n",
       "\n",
       "    .dataframe thead th {\n",
       "        text-align: right;\n",
       "    }\n",
       "</style>\n",
       "<table border=\"1\" class=\"dataframe\">\n",
       "  <thead>\n",
       "    <tr style=\"text-align: right;\">\n",
       "      <th></th>\n",
       "      <th>CustID</th>\n",
       "      <th>Ratings</th>\n",
       "      <th>MovieID</th>\n",
       "    </tr>\n",
       "  </thead>\n",
       "  <tbody>\n",
       "    <tr>\n",
       "      <th>0</th>\n",
       "      <td>1:</td>\n",
       "      <td>NaN</td>\n",
       "      <td>1</td>\n",
       "    </tr>\n",
       "    <tr>\n",
       "      <th>1</th>\n",
       "      <td>1488844</td>\n",
       "      <td>3.0</td>\n",
       "      <td>1</td>\n",
       "    </tr>\n",
       "    <tr>\n",
       "      <th>2</th>\n",
       "      <td>822109</td>\n",
       "      <td>5.0</td>\n",
       "      <td>1</td>\n",
       "    </tr>\n",
       "    <tr>\n",
       "      <th>3</th>\n",
       "      <td>885013</td>\n",
       "      <td>4.0</td>\n",
       "      <td>1</td>\n",
       "    </tr>\n",
       "    <tr>\n",
       "      <th>4</th>\n",
       "      <td>30878</td>\n",
       "      <td>4.0</td>\n",
       "      <td>1</td>\n",
       "    </tr>\n",
       "    <tr>\n",
       "      <th>...</th>\n",
       "      <td>...</td>\n",
       "      <td>...</td>\n",
       "      <td>...</td>\n",
       "    </tr>\n",
       "    <tr>\n",
       "      <th>24058258</th>\n",
       "      <td>2591364</td>\n",
       "      <td>2.0</td>\n",
       "      <td>4499</td>\n",
       "    </tr>\n",
       "    <tr>\n",
       "      <th>24058259</th>\n",
       "      <td>1791000</td>\n",
       "      <td>2.0</td>\n",
       "      <td>4499</td>\n",
       "    </tr>\n",
       "    <tr>\n",
       "      <th>24058260</th>\n",
       "      <td>512536</td>\n",
       "      <td>5.0</td>\n",
       "      <td>4499</td>\n",
       "    </tr>\n",
       "    <tr>\n",
       "      <th>24058261</th>\n",
       "      <td>988963</td>\n",
       "      <td>3.0</td>\n",
       "      <td>4499</td>\n",
       "    </tr>\n",
       "    <tr>\n",
       "      <th>24058262</th>\n",
       "      <td>1704416</td>\n",
       "      <td>3.0</td>\n",
       "      <td>4499</td>\n",
       "    </tr>\n",
       "  </tbody>\n",
       "</table>\n",
       "<p>24058263 rows × 3 columns</p>\n",
       "</div>"
      ],
      "text/plain": [
       "           CustID  Ratings MovieID\n",
       "0              1:      NaN       1\n",
       "1         1488844      3.0       1\n",
       "2          822109      5.0       1\n",
       "3          885013      4.0       1\n",
       "4           30878      4.0       1\n",
       "...           ...      ...     ...\n",
       "24058258  2591364      2.0    4499\n",
       "24058259  1791000      2.0    4499\n",
       "24058260   512536      5.0    4499\n",
       "24058261   988963      3.0    4499\n",
       "24058262  1704416      3.0    4499\n",
       "\n",
       "[24058263 rows x 3 columns]"
      ]
     },
     "execution_count": 12,
     "metadata": {},
     "output_type": "execute_result"
    }
   ],
   "source": [
    "df[\"MovieID\"] = movie_id\n",
    "df"
   ]
  },
  {
   "cell_type": "code",
   "execution_count": null,
   "id": "99f19d5e-6987-4eff-8fbf-9ebe77985987",
   "metadata": {},
   "outputs": [],
   "source": [
    "df.dropna(inplace=True)"
   ]
  },
  {
   "cell_type": "code",
   "execution_count": null,
   "id": "18359840-eece-4fcf-bdd2-85d3634976d5",
   "metadata": {},
   "outputs": [
    {
     "data": {
      "text/html": [
       "<div>\n",
       "<style scoped>\n",
       "    .dataframe tbody tr th:only-of-type {\n",
       "        vertical-align: middle;\n",
       "    }\n",
       "\n",
       "    .dataframe tbody tr th {\n",
       "        vertical-align: top;\n",
       "    }\n",
       "\n",
       "    .dataframe thead th {\n",
       "        text-align: right;\n",
       "    }\n",
       "</style>\n",
       "<table border=\"1\" class=\"dataframe\">\n",
       "  <thead>\n",
       "    <tr style=\"text-align: right;\">\n",
       "      <th></th>\n",
       "      <th>CustID</th>\n",
       "      <th>Ratings</th>\n",
       "      <th>MovieID</th>\n",
       "    </tr>\n",
       "  </thead>\n",
       "  <tbody>\n",
       "    <tr>\n",
       "      <th>1</th>\n",
       "      <td>1488844</td>\n",
       "      <td>3.0</td>\n",
       "      <td>1</td>\n",
       "    </tr>\n",
       "    <tr>\n",
       "      <th>2</th>\n",
       "      <td>822109</td>\n",
       "      <td>5.0</td>\n",
       "      <td>1</td>\n",
       "    </tr>\n",
       "    <tr>\n",
       "      <th>3</th>\n",
       "      <td>885013</td>\n",
       "      <td>4.0</td>\n",
       "      <td>1</td>\n",
       "    </tr>\n",
       "    <tr>\n",
       "      <th>4</th>\n",
       "      <td>30878</td>\n",
       "      <td>4.0</td>\n",
       "      <td>1</td>\n",
       "    </tr>\n",
       "    <tr>\n",
       "      <th>5</th>\n",
       "      <td>823519</td>\n",
       "      <td>3.0</td>\n",
       "      <td>1</td>\n",
       "    </tr>\n",
       "    <tr>\n",
       "      <th>...</th>\n",
       "      <td>...</td>\n",
       "      <td>...</td>\n",
       "      <td>...</td>\n",
       "    </tr>\n",
       "    <tr>\n",
       "      <th>24058258</th>\n",
       "      <td>2591364</td>\n",
       "      <td>2.0</td>\n",
       "      <td>4499</td>\n",
       "    </tr>\n",
       "    <tr>\n",
       "      <th>24058259</th>\n",
       "      <td>1791000</td>\n",
       "      <td>2.0</td>\n",
       "      <td>4499</td>\n",
       "    </tr>\n",
       "    <tr>\n",
       "      <th>24058260</th>\n",
       "      <td>512536</td>\n",
       "      <td>5.0</td>\n",
       "      <td>4499</td>\n",
       "    </tr>\n",
       "    <tr>\n",
       "      <th>24058261</th>\n",
       "      <td>988963</td>\n",
       "      <td>3.0</td>\n",
       "      <td>4499</td>\n",
       "    </tr>\n",
       "    <tr>\n",
       "      <th>24058262</th>\n",
       "      <td>1704416</td>\n",
       "      <td>3.0</td>\n",
       "      <td>4499</td>\n",
       "    </tr>\n",
       "  </tbody>\n",
       "</table>\n",
       "<p>24053764 rows × 3 columns</p>\n",
       "</div>"
      ],
      "text/plain": [
       "           CustID  Ratings MovieID\n",
       "1         1488844      3.0       1\n",
       "2          822109      5.0       1\n",
       "3          885013      4.0       1\n",
       "4           30878      4.0       1\n",
       "5          823519      3.0       1\n",
       "...           ...      ...     ...\n",
       "24058258  2591364      2.0    4499\n",
       "24058259  1791000      2.0    4499\n",
       "24058260   512536      5.0    4499\n",
       "24058261   988963      3.0    4499\n",
       "24058262  1704416      3.0    4499\n",
       "\n",
       "[24053764 rows x 3 columns]"
      ]
     },
     "execution_count": 14,
     "metadata": {},
     "output_type": "execute_result"
    }
   ],
   "source": [
    "df"
   ]
  },
  {
   "cell_type": "code",
   "execution_count": null,
   "id": "11e88dbe-533b-4acf-89b4-cff7580497e2",
   "metadata": {},
   "outputs": [
    {
     "name": "stdout",
     "output_type": "stream",
     "text": [
      "<class 'pandas.core.frame.DataFrame'>\n",
      "Index: 24053764 entries, 1 to 24058262\n",
      "Data columns (total 3 columns):\n",
      " #   Column   Dtype  \n",
      "---  ------   -----  \n",
      " 0   CustID   object \n",
      " 1   Ratings  float64\n",
      " 2   MovieID  object \n",
      "dtypes: float64(1), object(2)\n",
      "memory usage: 734.1+ MB\n"
     ]
    }
   ],
   "source": [
    "df.info()"
   ]
  },
  {
   "cell_type": "code",
   "execution_count": null,
   "id": "4c728c55-ea4f-4924-a3c0-206122b6d092",
   "metadata": {},
   "outputs": [],
   "source": [
    "df[\"CustID\"] = df[\"CustID\"].astype(int)\n",
    "df[\"MovieID\"] = df[\"MovieID\"].astype(int)"
   ]
  },
  {
   "cell_type": "code",
   "execution_count": null,
   "id": "6670018e-9428-4196-92b1-a989f773b146",
   "metadata": {},
   "outputs": [
    {
     "name": "stdout",
     "output_type": "stream",
     "text": [
      "<class 'pandas.core.frame.DataFrame'>\n",
      "Index: 24053764 entries, 1 to 24058262\n",
      "Data columns (total 3 columns):\n",
      " #   Column   Dtype  \n",
      "---  ------   -----  \n",
      " 0   CustID   int32  \n",
      " 1   Ratings  float64\n",
      " 2   MovieID  int32  \n",
      "dtypes: float64(1), int32(2)\n",
      "memory usage: 550.5 MB\n"
     ]
    }
   ],
   "source": [
    "df.info()"
   ]
  },
  {
   "cell_type": "code",
   "execution_count": null,
   "id": "733a7927-1ee4-4648-a986-32fe1cbf28eb",
   "metadata": {},
   "outputs": [
    {
     "data": {
      "text/plain": [
       "0"
      ]
     },
     "execution_count": 18,
     "metadata": {},
     "output_type": "execute_result"
    }
   ],
   "source": [
    "df.duplicated().sum()"
   ]
  },
  {
   "cell_type": "code",
   "execution_count": null,
   "id": "b9b88c10-900b-45fc-ab0c-06ccd6148d64",
   "metadata": {},
   "outputs": [],
   "source": [
    "df[\"CustID\"] = df[\"CustID\"].astype(int)"
   ]
  },
  {
   "cell_type": "code",
   "execution_count": null,
   "id": "87ef8fe9-26bc-46a3-9a4c-5113bd88a5a7",
   "metadata": {},
   "outputs": [],
   "source": [
    "df[\"MovieID\"] = df[\"MovieID\"].astype(int)"
   ]
  },
  {
   "cell_type": "code",
   "execution_count": null,
   "id": "255b6615-a9cb-423a-8409-1cdea6b1c890",
   "metadata": {},
   "outputs": [
    {
     "name": "stdout",
     "output_type": "stream",
     "text": [
      "<class 'pandas.core.frame.DataFrame'>\n",
      "Index: 24053764 entries, 1 to 24058262\n",
      "Data columns (total 3 columns):\n",
      " #   Column   Dtype  \n",
      "---  ------   -----  \n",
      " 0   CustID   int32  \n",
      " 1   Ratings  float64\n",
      " 2   MovieID  int32  \n",
      "dtypes: float64(1), int32(2)\n",
      "memory usage: 550.5 MB\n"
     ]
    }
   ],
   "source": [
    "df.info()"
   ]
  },
  {
   "cell_type": "code",
   "execution_count": null,
   "id": "a9a0440b-c7d7-4818-8701-db5dc291849d",
   "metadata": {},
   "outputs": [
    {
     "data": {
      "text/plain": [
       "0"
      ]
     },
     "execution_count": 23,
     "metadata": {},
     "output_type": "execute_result"
    }
   ],
   "source": [
    "df.duplicated().sum()"
   ]
  },
  {
   "cell_type": "code",
   "execution_count": null,
   "id": "8456e042-137d-409e-b225-8cd490b4d393",
   "metadata": {},
   "outputs": [
    {
     "data": {
      "text/plain": [
       "CustID\n",
       "6          153\n",
       "7          195\n",
       "8           21\n",
       "10          49\n",
       "25           4\n",
       "          ... \n",
       "2649404     12\n",
       "2649409     10\n",
       "2649421      3\n",
       "2649426     74\n",
       "2649429     62\n",
       "Name: Ratings, Length: 470758, dtype: int64"
      ]
     },
     "execution_count": 24,
     "metadata": {},
     "output_type": "execute_result"
    }
   ],
   "source": [
    "data_cust_summary = df.groupby(\"CustID\")[\"Ratings\"].count()\n",
    "data_cust_summary"
   ]
  },
  {
   "cell_type": "code",
   "execution_count": null,
   "id": "eccb39e2-ba47-4fc1-83dc-53c733589cd9",
   "metadata": {},
   "outputs": [
    {
     "data": {
      "text/plain": [
       "36"
      ]
     },
     "execution_count": 25,
     "metadata": {},
     "output_type": "execute_result"
    }
   ],
   "source": [
    "cust_benchmark = round(data_cust_summary.quantile(0.60))\n",
    "cust_benchmark"
   ]
  },
  {
   "cell_type": "code",
   "execution_count": null,
   "id": "54ad6bdc-0b66-4fb7-a44c-871c7fcb50ff",
   "metadata": {},
   "outputs": [
    {
     "data": {
      "text/plain": [
       "CustID\n",
       "8          21\n",
       "25          4\n",
       "33         11\n",
       "83         10\n",
       "94         27\n",
       "           ..\n",
       "2649384     7\n",
       "2649401    30\n",
       "2649404    12\n",
       "2649409    10\n",
       "2649421     3\n",
       "Name: Ratings, Length: 282042, dtype: int64"
      ]
     },
     "execution_count": 26,
     "metadata": {},
     "output_type": "execute_result"
    }
   ],
   "source": [
    "data_cust_summary[data_cust_summary < cust_benchmark]  # Rejected Customer_ID"
   ]
  },
  {
   "cell_type": "code",
   "execution_count": null,
   "id": "bc0cef80-e974-4fcd-8a59-3e12d93ae05f",
   "metadata": {},
   "outputs": [
    {
     "data": {
      "text/plain": [
       "Index([      8,      25,      33,      83,      94,     126,     130,     133,\n",
       "           142,     149,\n",
       "       ...\n",
       "       2649337, 2649343, 2649351, 2649376, 2649379, 2649384, 2649401, 2649404,\n",
       "       2649409, 2649421],\n",
       "      dtype='int32', name='CustID', length=282042)"
      ]
     },
     "execution_count": 27,
     "metadata": {},
     "output_type": "execute_result"
    }
   ],
   "source": [
    "Rejected_cust = data_cust_summary[data_cust_summary < cust_benchmark].index\n",
    "Rejected_cust"
   ]
  },
  {
   "cell_type": "code",
   "execution_count": null,
   "id": "c7a3a613-7d0d-463a-9e5a-a9e7369d05f0",
   "metadata": {},
   "outputs": [],
   "source": [
    "df = df[~df[\"CustID\"].isin(Rejected_cust)]  # Cleaning the data (Removing the less useful CustID)"
   ]
  },
  {
   "cell_type": "code",
   "execution_count": null,
   "id": "a2193a22-06a8-4554-93f1-e2d377efb456",
   "metadata": {},
   "outputs": [
    {
     "data": {
      "text/plain": [
       "MovieID\n",
       "1        439\n",
       "2         93\n",
       "3       1699\n",
       "4        108\n",
       "5        869\n",
       "        ... \n",
       "4495     527\n",
       "4496    8488\n",
       "4497     631\n",
       "4498     239\n",
       "4499     363\n",
       "Name: Ratings, Length: 4499, dtype: int64"
      ]
     },
     "execution_count": 29,
     "metadata": {},
     "output_type": "execute_result"
    }
   ],
   "source": [
    "data_movie_summary = df.groupby(\"MovieID\")[\"Ratings\"].count()\n",
    "data_movie_summary"
   ]
  },
  {
   "cell_type": "markdown",
   "id": "345b44c5-9f29-419e-8b63-abff0e25dceb",
   "metadata": {},
   "source": [
    "\n",
    "Filter out customers with less than 60% of the average ratings"
   ]
  },
  {
   "cell_type": "code",
   "execution_count": null,
   "id": "9a315a6a-9178-4e37-8643-5848b97b859a",
   "metadata": {},
   "outputs": [
    {
     "data": {
      "text/plain": [
       "MovieID\n",
       "1        439\n",
       "2         93\n",
       "3       1699\n",
       "4        108\n",
       "5        869\n",
       "        ... \n",
       "4495     527\n",
       "4496    8488\n",
       "4497     631\n",
       "4498     239\n",
       "4499     363\n",
       "Name: Ratings, Length: 4499, dtype: int64"
      ]
     },
     "execution_count": 31,
     "metadata": {},
     "output_type": "execute_result"
    }
   ],
   "source": [
    "data_movie_summary = df.groupby(\"MovieID\")[\"Ratings\"].count()\n",
    "data_movie_summary"
   ]
  },
  {
   "cell_type": "code",
   "execution_count": null,
   "id": "d4350b5c-e4c6-4375-84e1-50ed4ac4fc1f",
   "metadata": {},
   "outputs": [
    {
     "data": {
      "text/plain": [
       "786"
      ]
     },
     "execution_count": 32,
     "metadata": {},
     "output_type": "execute_result"
    }
   ],
   "source": [
    "movie_benchmark = round(data_movie_summary.quantile(0.60))\n",
    "movie_benchmark"
   ]
  },
  {
   "cell_type": "code",
   "execution_count": null,
   "id": "0c4dcb83-304e-497a-82c4-5534df6c9c29",
   "metadata": {},
   "outputs": [
    {
     "data": {
      "text/plain": [
       "Index([   1,    2,    4,    7,    9,   10,   11,   12,   13,   14,\n",
       "       ...\n",
       "       4480, 4481, 4486, 4487, 4491, 4494, 4495, 4497, 4498, 4499],\n",
       "      dtype='int32', name='MovieID', length=2699)"
      ]
     },
     "execution_count": 33,
     "metadata": {},
     "output_type": "execute_result"
    }
   ],
   "source": [
    "Rejected_movies = data_movie_summary[data_movie_summary < movie_benchmark].index\n",
    "Rejected_movies"
   ]
  },
  {
   "cell_type": "code",
   "execution_count": null,
   "id": "ac4fe9eb-96d1-4802-99c4-b03e6b0283ad",
   "metadata": {},
   "outputs": [
    {
     "data": {
      "text/html": [
       "<div>\n",
       "<style scoped>\n",
       "    .dataframe tbody tr th:only-of-type {\n",
       "        vertical-align: middle;\n",
       "    }\n",
       "\n",
       "    .dataframe tbody tr th {\n",
       "        vertical-align: top;\n",
       "    }\n",
       "\n",
       "    .dataframe thead th {\n",
       "        text-align: right;\n",
       "    }\n",
       "</style>\n",
       "<table border=\"1\" class=\"dataframe\">\n",
       "  <thead>\n",
       "    <tr style=\"text-align: right;\">\n",
       "      <th></th>\n",
       "      <th>CustID</th>\n",
       "      <th>Ratings</th>\n",
       "      <th>MovieID</th>\n",
       "    </tr>\n",
       "  </thead>\n",
       "  <tbody>\n",
       "    <tr>\n",
       "      <th>696</th>\n",
       "      <td>712664</td>\n",
       "      <td>5.0</td>\n",
       "      <td>3</td>\n",
       "    </tr>\n",
       "    <tr>\n",
       "      <th>697</th>\n",
       "      <td>1331154</td>\n",
       "      <td>4.0</td>\n",
       "      <td>3</td>\n",
       "    </tr>\n",
       "    <tr>\n",
       "      <th>698</th>\n",
       "      <td>2632461</td>\n",
       "      <td>3.0</td>\n",
       "      <td>3</td>\n",
       "    </tr>\n",
       "    <tr>\n",
       "      <th>699</th>\n",
       "      <td>44937</td>\n",
       "      <td>5.0</td>\n",
       "      <td>3</td>\n",
       "    </tr>\n",
       "    <tr>\n",
       "      <th>700</th>\n",
       "      <td>656399</td>\n",
       "      <td>4.0</td>\n",
       "      <td>3</td>\n",
       "    </tr>\n",
       "    <tr>\n",
       "      <th>...</th>\n",
       "      <td>...</td>\n",
       "      <td>...</td>\n",
       "      <td>...</td>\n",
       "    </tr>\n",
       "    <tr>\n",
       "      <th>24056842</th>\n",
       "      <td>1055714</td>\n",
       "      <td>5.0</td>\n",
       "      <td>4496</td>\n",
       "    </tr>\n",
       "    <tr>\n",
       "      <th>24056843</th>\n",
       "      <td>2643029</td>\n",
       "      <td>4.0</td>\n",
       "      <td>4496</td>\n",
       "    </tr>\n",
       "    <tr>\n",
       "      <th>24056844</th>\n",
       "      <td>267802</td>\n",
       "      <td>4.0</td>\n",
       "      <td>4496</td>\n",
       "    </tr>\n",
       "    <tr>\n",
       "      <th>24056845</th>\n",
       "      <td>1559566</td>\n",
       "      <td>3.0</td>\n",
       "      <td>4496</td>\n",
       "    </tr>\n",
       "    <tr>\n",
       "      <th>24056846</th>\n",
       "      <td>293198</td>\n",
       "      <td>3.0</td>\n",
       "      <td>4496</td>\n",
       "    </tr>\n",
       "  </tbody>\n",
       "</table>\n",
       "<p>19697529 rows × 3 columns</p>\n",
       "</div>"
      ],
      "text/plain": [
       "           CustID  Ratings  MovieID\n",
       "696        712664      5.0        3\n",
       "697       1331154      4.0        3\n",
       "698       2632461      3.0        3\n",
       "699         44937      5.0        3\n",
       "700        656399      4.0        3\n",
       "...           ...      ...      ...\n",
       "24056842  1055714      5.0     4496\n",
       "24056843  2643029      4.0     4496\n",
       "24056844   267802      4.0     4496\n",
       "24056845  1559566      3.0     4496\n",
       "24056846   293198      3.0     4496\n",
       "\n",
       "[19697529 rows x 3 columns]"
      ]
     },
     "execution_count": 34,
     "metadata": {},
     "output_type": "execute_result"
    }
   ],
   "source": [
    "df = df[~df[\"MovieID\"].isin(Rejected_movies)]\n",
    "df"
   ]
  },
  {
   "cell_type": "code",
   "execution_count": null,
   "id": "61a94024-e945-4f16-b50e-eb91a775f6b4",
   "metadata": {},
   "outputs": [],
   "source": [
    "df_title = pd.read_csv(\n",
    "    \"NetflixMovieData.csv\",\n",
    "    header=None,\n",
    "    usecols=[0, 1, 2],\n",
    "    names=[\"MovieID\", \"Year\", \"Name\"],\n",
    ")"
   ]
  },
  {
   "cell_type": "code",
   "execution_count": null,
   "id": "d876b589-6c84-4d96-93b4-3333795c94d2",
   "metadata": {},
   "outputs": [
    {
     "data": {
      "text/html": [
       "<div>\n",
       "<style scoped>\n",
       "    .dataframe tbody tr th:only-of-type {\n",
       "        vertical-align: middle;\n",
       "    }\n",
       "\n",
       "    .dataframe tbody tr th {\n",
       "        vertical-align: top;\n",
       "    }\n",
       "\n",
       "    .dataframe thead th {\n",
       "        text-align: right;\n",
       "    }\n",
       "</style>\n",
       "<table border=\"1\" class=\"dataframe\">\n",
       "  <thead>\n",
       "    <tr style=\"text-align: right;\">\n",
       "      <th></th>\n",
       "      <th>MovieID</th>\n",
       "      <th>Year</th>\n",
       "      <th>Name</th>\n",
       "    </tr>\n",
       "  </thead>\n",
       "  <tbody>\n",
       "    <tr>\n",
       "      <th>0</th>\n",
       "      <td>1</td>\n",
       "      <td>2003.0</td>\n",
       "      <td>Dinosaur Planet</td>\n",
       "    </tr>\n",
       "    <tr>\n",
       "      <th>1</th>\n",
       "      <td>2</td>\n",
       "      <td>2004.0</td>\n",
       "      <td>Isle of Man TT 2004 Review</td>\n",
       "    </tr>\n",
       "    <tr>\n",
       "      <th>2</th>\n",
       "      <td>3</td>\n",
       "      <td>1997.0</td>\n",
       "      <td>Character</td>\n",
       "    </tr>\n",
       "    <tr>\n",
       "      <th>3</th>\n",
       "      <td>4</td>\n",
       "      <td>1994.0</td>\n",
       "      <td>Paula Abdul's Get Up &amp; Dance</td>\n",
       "    </tr>\n",
       "    <tr>\n",
       "      <th>4</th>\n",
       "      <td>5</td>\n",
       "      <td>2004.0</td>\n",
       "      <td>The Rise and Fall of ECW</td>\n",
       "    </tr>\n",
       "    <tr>\n",
       "      <th>...</th>\n",
       "      <td>...</td>\n",
       "      <td>...</td>\n",
       "      <td>...</td>\n",
       "    </tr>\n",
       "    <tr>\n",
       "      <th>17764</th>\n",
       "      <td>17766</td>\n",
       "      <td>2002.0</td>\n",
       "      <td>Where the Wild Things Are and Other Maurice Se...</td>\n",
       "    </tr>\n",
       "    <tr>\n",
       "      <th>17765</th>\n",
       "      <td>17767</td>\n",
       "      <td>2004.0</td>\n",
       "      <td>Fidel Castro: American Experience</td>\n",
       "    </tr>\n",
       "    <tr>\n",
       "      <th>17766</th>\n",
       "      <td>17768</td>\n",
       "      <td>2000.0</td>\n",
       "      <td>Epoch</td>\n",
       "    </tr>\n",
       "    <tr>\n",
       "      <th>17767</th>\n",
       "      <td>17769</td>\n",
       "      <td>2003.0</td>\n",
       "      <td>The Company</td>\n",
       "    </tr>\n",
       "    <tr>\n",
       "      <th>17768</th>\n",
       "      <td>17770</td>\n",
       "      <td>2003.0</td>\n",
       "      <td>Alien Hunter</td>\n",
       "    </tr>\n",
       "  </tbody>\n",
       "</table>\n",
       "<p>17769 rows × 3 columns</p>\n",
       "</div>"
      ],
      "text/plain": [
       "       MovieID    Year                                               Name\n",
       "0            1  2003.0                                    Dinosaur Planet\n",
       "1            2  2004.0                         Isle of Man TT 2004 Review\n",
       "2            3  1997.0                                          Character\n",
       "3            4  1994.0                       Paula Abdul's Get Up & Dance\n",
       "4            5  2004.0                           The Rise and Fall of ECW\n",
       "...        ...     ...                                                ...\n",
       "17764    17766  2002.0  Where the Wild Things Are and Other Maurice Se...\n",
       "17765    17767  2004.0                  Fidel Castro: American Experience\n",
       "17766    17768  2000.0                                              Epoch\n",
       "17767    17769  2003.0                                        The Company\n",
       "17768    17770  2003.0                                       Alien Hunter\n",
       "\n",
       "[17769 rows x 3 columns]"
      ]
     },
     "execution_count": 36,
     "metadata": {},
     "output_type": "execute_result"
    }
   ],
   "source": [
    "df_title"
   ]
  },
  {
   "cell_type": "code",
   "execution_count": null,
   "id": "2fb3f69a-c92d-4d4a-a994-a36fedc8eae6",
   "metadata": {},
   "outputs": [],
   "source": [
    "from surprise import Reader, Dataset, SVD\n",
    "from surprise.model_selection import cross_validate"
   ]
  },
  {
   "cell_type": "code",
   "execution_count": null,
   "id": "c942f435-1b88-4d8f-8f0d-563f7b402f04",
   "metadata": {},
   "outputs": [],
   "source": [
    "reader = Reader()"
   ]
  },
  {
   "cell_type": "code",
   "execution_count": null,
   "id": "e7687232-fba2-4568-888d-e1fb62a8ebc6",
   "metadata": {},
   "outputs": [],
   "source": [
    "data = Dataset.load_from_df(df[[\"CustID\", \"MovieID\", \"Ratings\"]][:1000000], reader)"
   ]
  },
  {
   "cell_type": "code",
   "execution_count": null,
   "id": "b2287acc-b37b-40bd-b73a-bb3fb355ad90",
   "metadata": {},
   "outputs": [],
   "source": [
    "model = SVD()"
   ]
  },
  {
   "cell_type": "code",
   "execution_count": null,
   "id": "4653a0b2-5565-41c2-afb2-e6a85983cc3e",
   "metadata": {},
   "outputs": [
    {
     "data": {
      "text/plain": [
       "{'test_rmse': array([0.96910505, 0.96767568, 0.96882068]),\n",
       " 'fit_time': (15.789720296859741, 12.228655099868774, 10.522419452667236),\n",
       " 'test_time': (3.9303925037384033, 2.939146041870117, 2.435689926147461)}"
      ]
     },
     "execution_count": 42,
     "metadata": {},
     "output_type": "execute_result"
    }
   ],
   "source": [
    "cross_validate(model, data, measures=[\"RMSE\"], cv=3)"
   ]
  },
  {
   "cell_type": "code",
   "execution_count": null,
   "id": "c2f5d810-00ef-4565-8e53-abe639a16d08",
   "metadata": {},
   "outputs": [
    {
     "data": {
      "text/html": [
       "<div>\n",
       "<style scoped>\n",
       "    .dataframe tbody tr th:only-of-type {\n",
       "        vertical-align: middle;\n",
       "    }\n",
       "\n",
       "    .dataframe tbody tr th {\n",
       "        vertical-align: top;\n",
       "    }\n",
       "\n",
       "    .dataframe thead th {\n",
       "        text-align: right;\n",
       "    }\n",
       "</style>\n",
       "<table border=\"1\" class=\"dataframe\">\n",
       "  <thead>\n",
       "    <tr style=\"text-align: right;\">\n",
       "      <th></th>\n",
       "      <th>MovieID</th>\n",
       "      <th>Year</th>\n",
       "      <th>Name</th>\n",
       "    </tr>\n",
       "  </thead>\n",
       "  <tbody>\n",
       "    <tr>\n",
       "      <th>0</th>\n",
       "      <td>1</td>\n",
       "      <td>2003.0</td>\n",
       "      <td>Dinosaur Planet</td>\n",
       "    </tr>\n",
       "    <tr>\n",
       "      <th>1</th>\n",
       "      <td>2</td>\n",
       "      <td>2004.0</td>\n",
       "      <td>Isle of Man TT 2004 Review</td>\n",
       "    </tr>\n",
       "    <tr>\n",
       "      <th>2</th>\n",
       "      <td>3</td>\n",
       "      <td>1997.0</td>\n",
       "      <td>Character</td>\n",
       "    </tr>\n",
       "    <tr>\n",
       "      <th>3</th>\n",
       "      <td>4</td>\n",
       "      <td>1994.0</td>\n",
       "      <td>Paula Abdul's Get Up &amp; Dance</td>\n",
       "    </tr>\n",
       "    <tr>\n",
       "      <th>4</th>\n",
       "      <td>5</td>\n",
       "      <td>2004.0</td>\n",
       "      <td>The Rise and Fall of ECW</td>\n",
       "    </tr>\n",
       "    <tr>\n",
       "      <th>...</th>\n",
       "      <td>...</td>\n",
       "      <td>...</td>\n",
       "      <td>...</td>\n",
       "    </tr>\n",
       "    <tr>\n",
       "      <th>17764</th>\n",
       "      <td>17766</td>\n",
       "      <td>2002.0</td>\n",
       "      <td>Where the Wild Things Are and Other Maurice Se...</td>\n",
       "    </tr>\n",
       "    <tr>\n",
       "      <th>17765</th>\n",
       "      <td>17767</td>\n",
       "      <td>2004.0</td>\n",
       "      <td>Fidel Castro: American Experience</td>\n",
       "    </tr>\n",
       "    <tr>\n",
       "      <th>17766</th>\n",
       "      <td>17768</td>\n",
       "      <td>2000.0</td>\n",
       "      <td>Epoch</td>\n",
       "    </tr>\n",
       "    <tr>\n",
       "      <th>17767</th>\n",
       "      <td>17769</td>\n",
       "      <td>2003.0</td>\n",
       "      <td>The Company</td>\n",
       "    </tr>\n",
       "    <tr>\n",
       "      <th>17768</th>\n",
       "      <td>17770</td>\n",
       "      <td>2003.0</td>\n",
       "      <td>Alien Hunter</td>\n",
       "    </tr>\n",
       "  </tbody>\n",
       "</table>\n",
       "<p>17769 rows × 3 columns</p>\n",
       "</div>"
      ],
      "text/plain": [
       "       MovieID    Year                                               Name\n",
       "0            1  2003.0                                    Dinosaur Planet\n",
       "1            2  2004.0                         Isle of Man TT 2004 Review\n",
       "2            3  1997.0                                          Character\n",
       "3            4  1994.0                       Paula Abdul's Get Up & Dance\n",
       "4            5  2004.0                           The Rise and Fall of ECW\n",
       "...        ...     ...                                                ...\n",
       "17764    17766  2002.0  Where the Wild Things Are and Other Maurice Se...\n",
       "17765    17767  2004.0                  Fidel Castro: American Experience\n",
       "17766    17768  2000.0                                              Epoch\n",
       "17767    17769  2003.0                                        The Company\n",
       "17768    17770  2003.0                                       Alien Hunter\n",
       "\n",
       "[17769 rows x 3 columns]"
      ]
     },
     "execution_count": 43,
     "metadata": {},
     "output_type": "execute_result"
    }
   ],
   "source": [
    "user_1331154 = df_title.copy()\n",
    "user_1331154"
   ]
  },
  {
   "cell_type": "code",
   "execution_count": null,
   "id": "11c037c9-709e-46c0-9991-d1628d14d18c",
   "metadata": {},
   "outputs": [
    {
     "data": {
      "text/html": [
       "<div>\n",
       "<style scoped>\n",
       "    .dataframe tbody tr th:only-of-type {\n",
       "        vertical-align: middle;\n",
       "    }\n",
       "\n",
       "    .dataframe tbody tr th {\n",
       "        vertical-align: top;\n",
       "    }\n",
       "\n",
       "    .dataframe thead th {\n",
       "        text-align: right;\n",
       "    }\n",
       "</style>\n",
       "<table border=\"1\" class=\"dataframe\">\n",
       "  <thead>\n",
       "    <tr style=\"text-align: right;\">\n",
       "      <th></th>\n",
       "      <th>MovieID</th>\n",
       "      <th>Year</th>\n",
       "      <th>Name</th>\n",
       "    </tr>\n",
       "  </thead>\n",
       "  <tbody>\n",
       "    <tr>\n",
       "      <th>0</th>\n",
       "      <td>1</td>\n",
       "      <td>2003.0</td>\n",
       "      <td>Dinosaur Planet</td>\n",
       "    </tr>\n",
       "    <tr>\n",
       "      <th>1</th>\n",
       "      <td>2</td>\n",
       "      <td>2004.0</td>\n",
       "      <td>Isle of Man TT 2004 Review</td>\n",
       "    </tr>\n",
       "    <tr>\n",
       "      <th>2</th>\n",
       "      <td>3</td>\n",
       "      <td>1997.0</td>\n",
       "      <td>Character</td>\n",
       "    </tr>\n",
       "    <tr>\n",
       "      <th>3</th>\n",
       "      <td>4</td>\n",
       "      <td>1994.0</td>\n",
       "      <td>Paula Abdul's Get Up &amp; Dance</td>\n",
       "    </tr>\n",
       "    <tr>\n",
       "      <th>4</th>\n",
       "      <td>5</td>\n",
       "      <td>2004.0</td>\n",
       "      <td>The Rise and Fall of ECW</td>\n",
       "    </tr>\n",
       "    <tr>\n",
       "      <th>...</th>\n",
       "      <td>...</td>\n",
       "      <td>...</td>\n",
       "      <td>...</td>\n",
       "    </tr>\n",
       "    <tr>\n",
       "      <th>17764</th>\n",
       "      <td>17766</td>\n",
       "      <td>2002.0</td>\n",
       "      <td>Where the Wild Things Are and Other Maurice Se...</td>\n",
       "    </tr>\n",
       "    <tr>\n",
       "      <th>17765</th>\n",
       "      <td>17767</td>\n",
       "      <td>2004.0</td>\n",
       "      <td>Fidel Castro: American Experience</td>\n",
       "    </tr>\n",
       "    <tr>\n",
       "      <th>17766</th>\n",
       "      <td>17768</td>\n",
       "      <td>2000.0</td>\n",
       "      <td>Epoch</td>\n",
       "    </tr>\n",
       "    <tr>\n",
       "      <th>17767</th>\n",
       "      <td>17769</td>\n",
       "      <td>2003.0</td>\n",
       "      <td>The Company</td>\n",
       "    </tr>\n",
       "    <tr>\n",
       "      <th>17768</th>\n",
       "      <td>17770</td>\n",
       "      <td>2003.0</td>\n",
       "      <td>Alien Hunter</td>\n",
       "    </tr>\n",
       "  </tbody>\n",
       "</table>\n",
       "<p>17769 rows × 3 columns</p>\n",
       "</div>"
      ],
      "text/plain": [
       "       MovieID    Year                                               Name\n",
       "0            1  2003.0                                    Dinosaur Planet\n",
       "1            2  2004.0                         Isle of Man TT 2004 Review\n",
       "2            3  1997.0                                          Character\n",
       "3            4  1994.0                       Paula Abdul's Get Up & Dance\n",
       "4            5  2004.0                           The Rise and Fall of ECW\n",
       "...        ...     ...                                                ...\n",
       "17764    17766  2002.0  Where the Wild Things Are and Other Maurice Se...\n",
       "17765    17767  2004.0                  Fidel Castro: American Experience\n",
       "17766    17768  2000.0                                              Epoch\n",
       "17767    17769  2003.0                                        The Company\n",
       "17768    17770  2003.0                                       Alien Hunter\n",
       "\n",
       "[17769 rows x 3 columns]"
      ]
     },
     "execution_count": 44,
     "metadata": {},
     "output_type": "execute_result"
    }
   ],
   "source": [
    "user_1331154 = df_title.copy()\n",
    "user_1331154"
   ]
  },
  {
   "cell_type": "code",
   "execution_count": null,
   "id": "ef64a439-af27-4fa3-ad0c-b71a58936e84",
   "metadata": {},
   "outputs": [],
   "source": [
    "user_1331154[\"Estimate Score\"] = user_1331154[\"MovieID\"].apply(\n",
    "    lambda x: model.predict(1331154, x).est)"
   ]
  },
  {
   "cell_type": "code",
   "execution_count": null,
   "id": "2a49fa58-c483-4388-9d6c-29c777ffdce0",
   "metadata": {},
   "outputs": [],
   "source": [
    "user_1331154[\"Estimate Score\"] = user_1331154[\"MovieID\"].apply(\n",
    "    lambda x: model.predict(1331154, x).est)"
   ]
  },
  {
   "cell_type": "code",
   "execution_count": null,
   "id": "0c145784-d690-4c06-a0d9-13282de70a96",
   "metadata": {},
   "outputs": [],
   "source": [
    "reader = Reader()"
   ]
  },
  {
   "cell_type": "code",
   "execution_count": null,
   "id": "70c649a0-0e02-4750-a8c7-831880ced736",
   "metadata": {},
   "outputs": [],
   "source": [
    "data = Dataset.load_from_df(df[[\"CustID\", \"MovieID\", \"Ratings\"]][:1000000], reader)"
   ]
  },
  {
   "cell_type": "code",
   "execution_count": null,
   "id": "d3cefb0b-c935-44c5-b2c3-d5d0908f3923",
   "metadata": {},
   "outputs": [],
   "source": [
    "model = SVD()"
   ]
  },
  {
   "cell_type": "code",
   "execution_count": null,
   "id": "2dc69583-b830-4aa4-8585-ba5c19e0d308",
   "metadata": {},
   "outputs": [
    {
     "data": {
      "text/plain": [
       "{'test_rmse': array([0.96855215, 0.9687495 , 0.96853798]),\n",
       " 'fit_time': (13.374587774276733, 13.625046730041504, 13.330703258514404),\n",
       " 'test_time': (4.28935694694519, 3.30765700340271, 2.9661660194396973)}"
      ]
     },
     "execution_count": 50,
     "metadata": {},
     "output_type": "execute_result"
    }
   ],
   "source": [
    "cross_validate(model, data, measures=[\"RMSE\"], cv=3)"
   ]
  },
  {
   "cell_type": "code",
   "execution_count": null,
   "id": "bd226447-c8e7-421b-8751-7d82b16dbfc8",
   "metadata": {},
   "outputs": [],
   "source": [
    "user_1331154 = df_title.copy()"
   ]
  },
  {
   "cell_type": "code",
   "execution_count": null,
   "id": "f14183fe-12ae-4ef2-9887-4f33e0aa4bf1",
   "metadata": {},
   "outputs": [
    {
     "data": {
      "text/html": [
       "<div>\n",
       "<style scoped>\n",
       "    .dataframe tbody tr th:only-of-type {\n",
       "        vertical-align: middle;\n",
       "    }\n",
       "\n",
       "    .dataframe tbody tr th {\n",
       "        vertical-align: top;\n",
       "    }\n",
       "\n",
       "    .dataframe thead th {\n",
       "        text-align: right;\n",
       "    }\n",
       "</style>\n",
       "<table border=\"1\" class=\"dataframe\">\n",
       "  <thead>\n",
       "    <tr style=\"text-align: right;\">\n",
       "      <th></th>\n",
       "      <th>MovieID</th>\n",
       "      <th>Year</th>\n",
       "      <th>Name</th>\n",
       "    </tr>\n",
       "  </thead>\n",
       "  <tbody>\n",
       "    <tr>\n",
       "      <th>0</th>\n",
       "      <td>1</td>\n",
       "      <td>2003.0</td>\n",
       "      <td>Dinosaur Planet</td>\n",
       "    </tr>\n",
       "    <tr>\n",
       "      <th>1</th>\n",
       "      <td>2</td>\n",
       "      <td>2004.0</td>\n",
       "      <td>Isle of Man TT 2004 Review</td>\n",
       "    </tr>\n",
       "    <tr>\n",
       "      <th>2</th>\n",
       "      <td>3</td>\n",
       "      <td>1997.0</td>\n",
       "      <td>Character</td>\n",
       "    </tr>\n",
       "    <tr>\n",
       "      <th>3</th>\n",
       "      <td>4</td>\n",
       "      <td>1994.0</td>\n",
       "      <td>Paula Abdul's Get Up &amp; Dance</td>\n",
       "    </tr>\n",
       "    <tr>\n",
       "      <th>4</th>\n",
       "      <td>5</td>\n",
       "      <td>2004.0</td>\n",
       "      <td>The Rise and Fall of ECW</td>\n",
       "    </tr>\n",
       "    <tr>\n",
       "      <th>...</th>\n",
       "      <td>...</td>\n",
       "      <td>...</td>\n",
       "      <td>...</td>\n",
       "    </tr>\n",
       "    <tr>\n",
       "      <th>17764</th>\n",
       "      <td>17766</td>\n",
       "      <td>2002.0</td>\n",
       "      <td>Where the Wild Things Are and Other Maurice Se...</td>\n",
       "    </tr>\n",
       "    <tr>\n",
       "      <th>17765</th>\n",
       "      <td>17767</td>\n",
       "      <td>2004.0</td>\n",
       "      <td>Fidel Castro: American Experience</td>\n",
       "    </tr>\n",
       "    <tr>\n",
       "      <th>17766</th>\n",
       "      <td>17768</td>\n",
       "      <td>2000.0</td>\n",
       "      <td>Epoch</td>\n",
       "    </tr>\n",
       "    <tr>\n",
       "      <th>17767</th>\n",
       "      <td>17769</td>\n",
       "      <td>2003.0</td>\n",
       "      <td>The Company</td>\n",
       "    </tr>\n",
       "    <tr>\n",
       "      <th>17768</th>\n",
       "      <td>17770</td>\n",
       "      <td>2003.0</td>\n",
       "      <td>Alien Hunter</td>\n",
       "    </tr>\n",
       "  </tbody>\n",
       "</table>\n",
       "<p>17769 rows × 3 columns</p>\n",
       "</div>"
      ],
      "text/plain": [
       "       MovieID    Year                                               Name\n",
       "0            1  2003.0                                    Dinosaur Planet\n",
       "1            2  2004.0                         Isle of Man TT 2004 Review\n",
       "2            3  1997.0                                          Character\n",
       "3            4  1994.0                       Paula Abdul's Get Up & Dance\n",
       "4            5  2004.0                           The Rise and Fall of ECW\n",
       "...        ...     ...                                                ...\n",
       "17764    17766  2002.0  Where the Wild Things Are and Other Maurice Se...\n",
       "17765    17767  2004.0                  Fidel Castro: American Experience\n",
       "17766    17768  2000.0                                              Epoch\n",
       "17767    17769  2003.0                                        The Company\n",
       "17768    17770  2003.0                                       Alien Hunter\n",
       "\n",
       "[17769 rows x 3 columns]"
      ]
     },
     "execution_count": 52,
     "metadata": {},
     "output_type": "execute_result"
    }
   ],
   "source": [
    "user_1331154"
   ]
  },
  {
   "cell_type": "code",
   "execution_count": null,
   "id": "930da13f-8c10-4847-bc02-c7b20dc3ec00",
   "metadata": {},
   "outputs": [],
   "source": [
    "user_1331154[\"Estimate Score\"] = user_1331154[\"MovieID\"].apply(\n",
    "    lambda x: model.predict(1331154, x).est)"
   ]
  },
  {
   "cell_type": "code",
   "execution_count": null,
   "id": "678b4c18-4c86-48d7-953f-bd8babb284d7",
   "metadata": {},
   "outputs": [
    {
     "data": {
      "text/html": [
       "<div>\n",
       "<style scoped>\n",
       "    .dataframe tbody tr th:only-of-type {\n",
       "        vertical-align: middle;\n",
       "    }\n",
       "\n",
       "    .dataframe tbody tr th {\n",
       "        vertical-align: top;\n",
       "    }\n",
       "\n",
       "    .dataframe thead th {\n",
       "        text-align: right;\n",
       "    }\n",
       "</style>\n",
       "<table border=\"1\" class=\"dataframe\">\n",
       "  <thead>\n",
       "    <tr style=\"text-align: right;\">\n",
       "      <th></th>\n",
       "      <th>MovieID</th>\n",
       "      <th>Year</th>\n",
       "      <th>Name</th>\n",
       "      <th>Estimate Score</th>\n",
       "    </tr>\n",
       "  </thead>\n",
       "  <tbody>\n",
       "    <tr>\n",
       "      <th>269</th>\n",
       "      <td>270</td>\n",
       "      <td>2001.0</td>\n",
       "      <td>Sex and the City: Season 4</td>\n",
       "      <td>4.604835</td>\n",
       "    </tr>\n",
       "    <tr>\n",
       "      <th>241</th>\n",
       "      <td>242</td>\n",
       "      <td>1995.0</td>\n",
       "      <td>Neon Genesis Evangelion: The End of Evangelion</td>\n",
       "      <td>4.537224</td>\n",
       "    </tr>\n",
       "    <tr>\n",
       "      <th>75</th>\n",
       "      <td>76</td>\n",
       "      <td>1952.0</td>\n",
       "      <td>I Love Lucy: Season 2</td>\n",
       "      <td>4.301665</td>\n",
       "    </tr>\n",
       "    <tr>\n",
       "      <th>137</th>\n",
       "      <td>138</td>\n",
       "      <td>1995.0</td>\n",
       "      <td>Star Trek: Voyager: Season 1</td>\n",
       "      <td>4.189118</td>\n",
       "    </tr>\n",
       "    <tr>\n",
       "      <th>151</th>\n",
       "      <td>152</td>\n",
       "      <td>1995.0</td>\n",
       "      <td>A Little Princess</td>\n",
       "      <td>4.166995</td>\n",
       "    </tr>\n",
       "    <tr>\n",
       "      <th>...</th>\n",
       "      <td>...</td>\n",
       "      <td>...</td>\n",
       "      <td>...</td>\n",
       "      <td>...</td>\n",
       "    </tr>\n",
       "    <tr>\n",
       "      <th>15</th>\n",
       "      <td>16</td>\n",
       "      <td>1996.0</td>\n",
       "      <td>Screamers</td>\n",
       "      <td>2.805275</td>\n",
       "    </tr>\n",
       "    <tr>\n",
       "      <th>180</th>\n",
       "      <td>181</td>\n",
       "      <td>2004.0</td>\n",
       "      <td>The Last Shot</td>\n",
       "      <td>2.671931</td>\n",
       "    </tr>\n",
       "    <tr>\n",
       "      <th>46</th>\n",
       "      <td>47</td>\n",
       "      <td>1952.0</td>\n",
       "      <td>The Bad and the Beautiful</td>\n",
       "      <td>2.642455</td>\n",
       "    </tr>\n",
       "    <tr>\n",
       "      <th>224</th>\n",
       "      <td>225</td>\n",
       "      <td>2004.0</td>\n",
       "      <td>The Cookout</td>\n",
       "      <td>2.641458</td>\n",
       "    </tr>\n",
       "    <tr>\n",
       "      <th>25</th>\n",
       "      <td>26</td>\n",
       "      <td>2004.0</td>\n",
       "      <td>Never Die Alone</td>\n",
       "      <td>2.525364</td>\n",
       "    </tr>\n",
       "  </tbody>\n",
       "</table>\n",
       "<p>17769 rows × 4 columns</p>\n",
       "</div>"
      ],
      "text/plain": [
       "     MovieID    Year                                            Name  \\\n",
       "269      270  2001.0                      Sex and the City: Season 4   \n",
       "241      242  1995.0  Neon Genesis Evangelion: The End of Evangelion   \n",
       "75        76  1952.0                           I Love Lucy: Season 2   \n",
       "137      138  1995.0                    Star Trek: Voyager: Season 1   \n",
       "151      152  1995.0                               A Little Princess   \n",
       "..       ...     ...                                             ...   \n",
       "15        16  1996.0                                       Screamers   \n",
       "180      181  2004.0                                   The Last Shot   \n",
       "46        47  1952.0                       The Bad and the Beautiful   \n",
       "224      225  2004.0                                     The Cookout   \n",
       "25        26  2004.0                                 Never Die Alone   \n",
       "\n",
       "     Estimate Score  \n",
       "269        4.604835  \n",
       "241        4.537224  \n",
       "75         4.301665  \n",
       "137        4.189118  \n",
       "151        4.166995  \n",
       "..              ...  \n",
       "15         2.805275  \n",
       "180        2.671931  \n",
       "46         2.642455  \n",
       "224        2.641458  \n",
       "25         2.525364  \n",
       "\n",
       "[17769 rows x 4 columns]"
      ]
     },
     "execution_count": 54,
     "metadata": {},
     "output_type": "execute_result"
    }
   ],
   "source": [
    "user_1331154.sort_values(by=\"Estimate Score\", ascending=False)"
   ]
  },
  {
   "cell_type": "code",
   "execution_count": null,
   "id": "dddb97b7-57dd-479f-a61d-c813a53dbfc5",
   "metadata": {},
   "outputs": [
    {
     "data": {
      "text/plain": [
       "696          712664\n",
       "697         1331154\n",
       "698         2632461\n",
       "699           44937\n",
       "700          656399\n",
       "             ...   \n",
       "24056842    1055714\n",
       "24056843    2643029\n",
       "24056844     267802\n",
       "24056845    1559566\n",
       "24056846     293198\n",
       "Name: CustID, Length: 19697529, dtype: int32"
      ]
     },
     "execution_count": 55,
     "metadata": {},
     "output_type": "execute_result"
    }
   ],
   "source": [
    "df[\"CustID\"]"
   ]
  },
  {
   "cell_type": "code",
   "execution_count": null,
   "id": "b165c111-96a9-49d1-a01b-03823b042282",
   "metadata": {},
   "outputs": [],
   "source": [
    "user_44937 = df_title.copy()"
   ]
  },
  {
   "cell_type": "code",
   "execution_count": null,
   "id": "e7c683e0-4fa0-4c2e-adf4-a906dec07f50",
   "metadata": {},
   "outputs": [
    {
     "data": {
      "text/html": [
       "<div>\n",
       "<style scoped>\n",
       "    .dataframe tbody tr th:only-of-type {\n",
       "        vertical-align: middle;\n",
       "    }\n",
       "\n",
       "    .dataframe tbody tr th {\n",
       "        vertical-align: top;\n",
       "    }\n",
       "\n",
       "    .dataframe thead th {\n",
       "        text-align: right;\n",
       "    }\n",
       "</style>\n",
       "<table border=\"1\" class=\"dataframe\">\n",
       "  <thead>\n",
       "    <tr style=\"text-align: right;\">\n",
       "      <th></th>\n",
       "      <th>MovieID</th>\n",
       "      <th>Year</th>\n",
       "      <th>Name</th>\n",
       "    </tr>\n",
       "  </thead>\n",
       "  <tbody>\n",
       "    <tr>\n",
       "      <th>0</th>\n",
       "      <td>1</td>\n",
       "      <td>2003.0</td>\n",
       "      <td>Dinosaur Planet</td>\n",
       "    </tr>\n",
       "    <tr>\n",
       "      <th>1</th>\n",
       "      <td>2</td>\n",
       "      <td>2004.0</td>\n",
       "      <td>Isle of Man TT 2004 Review</td>\n",
       "    </tr>\n",
       "    <tr>\n",
       "      <th>2</th>\n",
       "      <td>3</td>\n",
       "      <td>1997.0</td>\n",
       "      <td>Character</td>\n",
       "    </tr>\n",
       "    <tr>\n",
       "      <th>3</th>\n",
       "      <td>4</td>\n",
       "      <td>1994.0</td>\n",
       "      <td>Paula Abdul's Get Up &amp; Dance</td>\n",
       "    </tr>\n",
       "    <tr>\n",
       "      <th>4</th>\n",
       "      <td>5</td>\n",
       "      <td>2004.0</td>\n",
       "      <td>The Rise and Fall of ECW</td>\n",
       "    </tr>\n",
       "    <tr>\n",
       "      <th>...</th>\n",
       "      <td>...</td>\n",
       "      <td>...</td>\n",
       "      <td>...</td>\n",
       "    </tr>\n",
       "    <tr>\n",
       "      <th>17764</th>\n",
       "      <td>17766</td>\n",
       "      <td>2002.0</td>\n",
       "      <td>Where the Wild Things Are and Other Maurice Se...</td>\n",
       "    </tr>\n",
       "    <tr>\n",
       "      <th>17765</th>\n",
       "      <td>17767</td>\n",
       "      <td>2004.0</td>\n",
       "      <td>Fidel Castro: American Experience</td>\n",
       "    </tr>\n",
       "    <tr>\n",
       "      <th>17766</th>\n",
       "      <td>17768</td>\n",
       "      <td>2000.0</td>\n",
       "      <td>Epoch</td>\n",
       "    </tr>\n",
       "    <tr>\n",
       "      <th>17767</th>\n",
       "      <td>17769</td>\n",
       "      <td>2003.0</td>\n",
       "      <td>The Company</td>\n",
       "    </tr>\n",
       "    <tr>\n",
       "      <th>17768</th>\n",
       "      <td>17770</td>\n",
       "      <td>2003.0</td>\n",
       "      <td>Alien Hunter</td>\n",
       "    </tr>\n",
       "  </tbody>\n",
       "</table>\n",
       "<p>17769 rows × 3 columns</p>\n",
       "</div>"
      ],
      "text/plain": [
       "       MovieID    Year                                               Name\n",
       "0            1  2003.0                                    Dinosaur Planet\n",
       "1            2  2004.0                         Isle of Man TT 2004 Review\n",
       "2            3  1997.0                                          Character\n",
       "3            4  1994.0                       Paula Abdul's Get Up & Dance\n",
       "4            5  2004.0                           The Rise and Fall of ECW\n",
       "...        ...     ...                                                ...\n",
       "17764    17766  2002.0  Where the Wild Things Are and Other Maurice Se...\n",
       "17765    17767  2004.0                  Fidel Castro: American Experience\n",
       "17766    17768  2000.0                                              Epoch\n",
       "17767    17769  2003.0                                        The Company\n",
       "17768    17770  2003.0                                       Alien Hunter\n",
       "\n",
       "[17769 rows x 3 columns]"
      ]
     },
     "execution_count": 57,
     "metadata": {},
     "output_type": "execute_result"
    }
   ],
   "source": [
    "user_44937"
   ]
  },
  {
   "cell_type": "code",
   "execution_count": null,
   "id": "3adae3f6-1925-43c2-a767-129859ae7556",
   "metadata": {},
   "outputs": [],
   "source": [
    "user_44937[\"Estimate Score\"] = user_44937[\"MovieID\"].apply(\n",
    "    lambda x: model.predict(44937, x).est)"
   ]
  },
  {
   "cell_type": "code",
   "execution_count": null,
   "id": "2ba058fc-5991-4044-bde5-4400745857de",
   "metadata": {},
   "outputs": [
    {
     "data": {
      "text/html": [
       "<div>\n",
       "<style scoped>\n",
       "    .dataframe tbody tr th:only-of-type {\n",
       "        vertical-align: middle;\n",
       "    }\n",
       "\n",
       "    .dataframe tbody tr th {\n",
       "        vertical-align: top;\n",
       "    }\n",
       "\n",
       "    .dataframe thead th {\n",
       "        text-align: right;\n",
       "    }\n",
       "</style>\n",
       "<table border=\"1\" class=\"dataframe\">\n",
       "  <thead>\n",
       "    <tr style=\"text-align: right;\">\n",
       "      <th></th>\n",
       "      <th>MovieID</th>\n",
       "      <th>Year</th>\n",
       "      <th>Name</th>\n",
       "      <th>Estimate Score</th>\n",
       "    </tr>\n",
       "  </thead>\n",
       "  <tbody>\n",
       "    <tr>\n",
       "      <th>75</th>\n",
       "      <td>76</td>\n",
       "      <td>1952.0</td>\n",
       "      <td>I Love Lucy: Season 2</td>\n",
       "      <td>4.524860</td>\n",
       "    </tr>\n",
       "    <tr>\n",
       "      <th>31</th>\n",
       "      <td>32</td>\n",
       "      <td>2004.0</td>\n",
       "      <td>ABC Primetime: Mel Gibson's The Passion of the...</td>\n",
       "      <td>4.468493</td>\n",
       "    </tr>\n",
       "    <tr>\n",
       "      <th>67</th>\n",
       "      <td>68</td>\n",
       "      <td>2004.0</td>\n",
       "      <td>Invader Zim</td>\n",
       "      <td>4.270591</td>\n",
       "    </tr>\n",
       "    <tr>\n",
       "      <th>240</th>\n",
       "      <td>241</td>\n",
       "      <td>1959.0</td>\n",
       "      <td>North by Northwest</td>\n",
       "      <td>4.251689</td>\n",
       "    </tr>\n",
       "    <tr>\n",
       "      <th>198</th>\n",
       "      <td>199</td>\n",
       "      <td>1978.0</td>\n",
       "      <td>The Deer Hunter</td>\n",
       "      <td>4.214202</td>\n",
       "    </tr>\n",
       "    <tr>\n",
       "      <th>...</th>\n",
       "      <td>...</td>\n",
       "      <td>...</td>\n",
       "      <td>...</td>\n",
       "      <td>...</td>\n",
       "    </tr>\n",
       "    <tr>\n",
       "      <th>76</th>\n",
       "      <td>77</td>\n",
       "      <td>1995.0</td>\n",
       "      <td>Congo</td>\n",
       "      <td>2.616534</td>\n",
       "    </tr>\n",
       "    <tr>\n",
       "      <th>187</th>\n",
       "      <td>188</td>\n",
       "      <td>2005.0</td>\n",
       "      <td>Dead Birds</td>\n",
       "      <td>2.611924</td>\n",
       "    </tr>\n",
       "    <tr>\n",
       "      <th>47</th>\n",
       "      <td>48</td>\n",
       "      <td>2001.0</td>\n",
       "      <td>Justice League</td>\n",
       "      <td>2.583528</td>\n",
       "    </tr>\n",
       "    <tr>\n",
       "      <th>224</th>\n",
       "      <td>225</td>\n",
       "      <td>2004.0</td>\n",
       "      <td>The Cookout</td>\n",
       "      <td>2.529069</td>\n",
       "    </tr>\n",
       "    <tr>\n",
       "      <th>126</th>\n",
       "      <td>127</td>\n",
       "      <td>1987.0</td>\n",
       "      <td>Fatal Beauty</td>\n",
       "      <td>2.451477</td>\n",
       "    </tr>\n",
       "  </tbody>\n",
       "</table>\n",
       "<p>17769 rows × 4 columns</p>\n",
       "</div>"
      ],
      "text/plain": [
       "     MovieID    Year                                               Name  \\\n",
       "75        76  1952.0                              I Love Lucy: Season 2   \n",
       "31        32  2004.0  ABC Primetime: Mel Gibson's The Passion of the...   \n",
       "67        68  2004.0                                        Invader Zim   \n",
       "240      241  1959.0                                 North by Northwest   \n",
       "198      199  1978.0                                    The Deer Hunter   \n",
       "..       ...     ...                                                ...   \n",
       "76        77  1995.0                                              Congo   \n",
       "187      188  2005.0                                         Dead Birds   \n",
       "47        48  2001.0                                     Justice League   \n",
       "224      225  2004.0                                        The Cookout   \n",
       "126      127  1987.0                                       Fatal Beauty   \n",
       "\n",
       "     Estimate Score  \n",
       "75         4.524860  \n",
       "31         4.468493  \n",
       "67         4.270591  \n",
       "240        4.251689  \n",
       "198        4.214202  \n",
       "..              ...  \n",
       "76         2.616534  \n",
       "187        2.611924  \n",
       "47         2.583528  \n",
       "224        2.529069  \n",
       "126        2.451477  \n",
       "\n",
       "[17769 rows x 4 columns]"
      ]
     },
     "execution_count": 59,
     "metadata": {},
     "output_type": "execute_result"
    }
   ],
   "source": [
    "user_44937.sort_values(by=\"Estimate Score\", ascending=False)"
   ]
  }
 ],
 "metadata": {
  "kernelspec": {
   "display_name": "Python 3",
   "language": "python",
   "name": "python3"
  },
  "language_info": {
   "name": "python",
   "version": "3.12.9"
  }
 },
 "nbformat": 4,
 "nbformat_minor": 5
}
